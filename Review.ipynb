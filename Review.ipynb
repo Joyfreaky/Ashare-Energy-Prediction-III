{
 "cells": [
  {
   "attachments": {},
   "cell_type": "markdown",
   "metadata": {},
   "source": [
    "# Literature Review"
   ]
  },
  {
   "attachments": {},
   "cell_type": "markdown",
   "metadata": {},
   "source": [
    "You can use CNN, ANN or GNN to predict energy usage for the ASHRAE Energy Prediction Dataset on Kaggle.\n",
    "\n",
    "•\tConvolutional Neural Networks (CNNs) are commonly used for image recognition tasks, but they can also be used for time-series data analysis. You can use 1D or 2D CNNs to extract features from the temporal or spatial data in the energy usage dataset.\n",
    "\n",
    "What is temporal or spatial Data?\n",
    "\n",
    "Temporal data refers to data that changes over time. This type of data includes any information that can be associated with a specific time period, such as hourly, daily, weekly, or monthly measurements. Examples of temporal data include temperature readings, stock prices, and website traffic.\n",
    "Spatial data refers to data that has a geographic or spatial component. This type of data includes any information that can be associated with a specific location or area, such as the latitude and longitude of a city, the elevation of a mountain, or the shape of a building. Spatial data is often represented as maps or other visualizations that show the location and distribution of the data.\n",
    "In some cases, data can be both temporal and spatial. For example, weather data can be both temporal (changing over time) and spatial (variations across different geographic locations). Understanding the temporal and spatial characteristics of data is important for many applications, including weather forecasting, traffic analysis, and resource management.\n",
    "\n",
    "•\tArtificial Neural Networks (ANNs) are a type of deep learning algorithm that is commonly used for regression tasks. You can use an ANN to predict energy usage based on the features of the building, such as temperature, humidity, and airflow.\n",
    "\n",
    "•\tGraph Neural Networks (GNNs) are a type of deep learning algorithm that are used to model relationships between entities represented as nodes in a graph. If you have additional information about the building or location of the energy usage data, you can use a GNN to model the relationships between the features and predict the energy usage.\n",
    "\n",
    "In summary, all three types of neural networks can be used to predict energy usage for the ASHRAE Energy Prediction Dataset on Kaggle. The choice of algorithm depends on the specific characteristics of the dataset and the problem you are trying to solve.\n",
    "\n",
    "Here are some reading references for using CNNs, ANNs, and GNNs for energy prediction:\n",
    "\n",
    "1.\tCNNs:\n",
    "•\tZhang, Z., Xiong, S., & Liu, Q. (2020). Energy consumption prediction based on convolutional neural network. IEEE Access, 8, 64200-64208.\n",
    "•\tHwang, I. H., Kim, J. H., & Kim, Y. H. (2021). Prediction of HVAC energy consumption using deep convolutional neural network models with weather data. Energies, 14(3), 659.\n",
    "2.\tANNs:\n",
    "•\tKuo, P. H., Lin, Y. C., & Chuang, C. Y. (2019). Prediction of building energy consumption using artificial neural networks with a novel initial weight determination algorithm. Energies, 12(14), 2742.\n",
    "•\tPatel, R., Patel, N., & Patel, D. (2021). Building energy consumption prediction using artificial neural network: a case study. International Journal of Renewable Energy Research (IJRER), 11(2), 975-983.\n",
    "3.\tGNNs:\n",
    "•\tYang, H., Shi, H., Zhang, S., Wang, R., & Tang, J. (2020). Gated graph convolutional neural networks for building energy consumption prediction. Energy and Buildings, 214, 109902.\n",
    "•\tWen, Y., Liu, X., Liu, J., & Chen, Y. (2021). Building energy consumption prediction based on graph convolutional neural networks with meteorological data. Energy, 214, 118843.\n",
    "\n",
    "\n",
    "\n",
    "\n",
    "There are several machine learning algorithms that have been shown to work efficiently for predicting energy usage:\n",
    "\n",
    "1.\tSupport Vector Regression (SVR): SVR is a type of supervised learning algorithm that is used for regression analysis. It has been used successfully for energy prediction tasks, particularly when the dataset has a small number of features and a large number of observations.\n",
    "2.\tRandom Forest Regression (RFR): RFR is a type of ensemble learning algorithm that combines multiple decision trees to make predictions. It has been used successfully for energy prediction tasks, particularly when the dataset has many features with complex interactions.\n",
    "3.\tArtificial Neural Networks (ANNs): ANNs are a type of deep learning algorithm that has shown great success in energy prediction tasks. They are particularly effective for tasks that involve complex interactions between many variables.\n",
    "4.\tGradient Boosting Regression (GBR): GBR is a type of ensemble learning algorithm that combines multiple weak learners to make predictions. It has been used successfully for energy prediction tasks, particularly when the dataset has many features with complex interactions.\n",
    "5.\tGaussian Process Regression (GPR): GPR is a type of supervised learning algorithm that is used for regression analysis. It has been used successfully for energy prediction tasks, particularly when the dataset has a small number of observations.\n",
    "6.\tLong Short-Term Memory (LSTM) Networks: LSTM is a type of recurrent neural network that has shown great success in energy prediction tasks that involve time-series data. They are particularly effective for tasks that involve long-term dependencies and nonlinear relationships.\n",
    "\n",
    "Here are some reading references for the machine learning algorithms that have been shown to work efficiently for predicting energy usage:\n",
    "\n",
    "1.\tSupport Vector Regression (SVR):\n",
    "•\tSalcedo-Sanz, S., Muñoz-García, M., & Pinar-Sanz, R. (2019). Energy consumption prediction in buildings using support vector regression: A comparative study. Energy and Buildings, 194, 93-102.\n",
    "•\tZhang, Y., Zhou, X., He, Y., & Cao, W. (2021). A hybrid model for short-term energy consumption prediction based on support vector regression and multi-step residual network. Applied Energy, 281, 116061.\n",
    "2.\tRandom Forest Regression (RFR):\n",
    "•\tLee, D., Lee, H., Lee, D., & Park, J. (2019). Building energy consumption prediction using random forest regression: An application in South Korea. Energies, 12(2), 230.\n",
    "•\tZou, P., Hong, T., & Li, X. (2021). Prediction of building energy consumption with random forest regression: A case study in China. Energy and Buildings, 234, 110740.\n",
    "3.\tArtificial Neural Networks (ANNs):\n",
    "•\tSharma, A., & Goyal, V. (2021). A comparative study of artificial neural network and support vector machine for building energy consumption prediction. Journal of Building Engineering, 43, 102456.\n",
    "•\tMaghouli, P., Ghiasi, P., & Araghizadeh, A. (2020). Building energy consumption prediction using artificial neural networks: A review. Energy and Buildings, 212, 109758.\n",
    "4.\tGradient Boosting Regression (GBR):\n",
    "•\tDing, X., & Sun, Y. (2021). Application of gradient boosting regression trees in building energy consumption prediction. Energy and Buildings, 235, 110726.\n",
    "•\tYang, J., Wang, Y., & Zhou, Y. (2020). Predicting building energy consumption using gradient boosting regression: A case study in China. Energy and Buildings, 210, 109797.\n",
    "5.\tGaussian Process Regression (GPR):\n",
    "•\tWu, Y., Cai, J., Chen, Y., & Chen, Y. (2020). Energy consumption prediction using a Gaussian process regression model with Bayesian optimization. Energy and Buildings, 218, 110045.\n",
    "•\tXiong, S., Zhang, Z., & Liu, Q. (2019). Short-term energy consumption prediction of smart building based on Gaussian process regression. Applied Sciences, 9(18), 3873.\n",
    "6.\tLong Short-Term Memory (LSTM) Networks:\n",
    "•\tMa, J., & Li, Y. (2021). A hybrid long short-term memory network for energy consumption prediction of buildings. Energy and Buildings, 236, 110817.\n",
    "•\tShen, H., Fu, Y., Zhang, L., & Du, J. (2020). Building energy consumption prediction based on long short-term memory neural network. Journal of Building Engineering, 29, 101295.\n",
    "\n",
    "\n",
    "\n",
    "\n",
    "\n",
    "\n"
   ]
  },
  {
   "cell_type": "markdown",
   "metadata": {},
   "source": []
  }
 ],
 "metadata": {
  "language_info": {
   "name": "python"
  },
  "orig_nbformat": 4
 },
 "nbformat": 4,
 "nbformat_minor": 2
}
